{
  "nbformat": 4,
  "nbformat_minor": 0,
  "metadata": {
    "colab": {
      "provenance": [],
      "authorship_tag": "ABX9TyOfdvt233UvSIV0+Aj7Ta+g",
      "include_colab_link": true
    },
    "kernelspec": {
      "name": "python3",
      "display_name": "Python 3"
    },
    "language_info": {
      "name": "python"
    }
  },
  "cells": [
    {
      "cell_type": "markdown",
      "metadata": {
        "id": "view-in-github",
        "colab_type": "text"
      },
      "source": [
        "<a href=\"https://colab.research.google.com/github/NetizenCodes/-netizen-ai-notebook/blob/main/list%2C%20range%2C%20list%20operations.ipynb\" target=\"_parent\"><img src=\"https://colab.research.google.com/assets/colab-badge.svg\" alt=\"Open In Colab\"/></a>"
      ]
    },
    {
      "cell_type": "markdown",
      "source": [
        "#Lists\n",
        "our first list\n",
        "\n",
        "\n"
      ],
      "metadata": {
        "id": "75JvHGPq3EfL"
      }
    },
    {
      "cell_type": "code",
      "execution_count": 15,
      "metadata": {
        "colab": {
          "base_uri": "https://localhost:8080/"
        },
        "id": "1CBXnnmY3Bir",
        "outputId": "13b4db07-7e21-418c-f7d7-b89d3a926d00"
      },
      "outputs": [
        {
          "output_type": "stream",
          "name": "stdout",
          "text": [
            "[1, 5, 4, 7, 9, 34, 67, 9]\n"
          ]
        }
      ],
      "source": [
        "MyList=[1,5,4,7,9,34,67,9]\n",
        "print (MyList)"
      ]
    },
    {
      "cell_type": "code",
      "source": [
        "print(\"this is the first entry\", MyList[0])#python indexes\n",
        "print(\"this is the last entry\",MyList[-1])\n",
        "MyList[-2]"
      ],
      "metadata": {
        "colab": {
          "base_uri": "https://localhost:8080/"
        },
        "id": "sWw8ppc-3h-R",
        "outputId": "4324b0c3-ee21-4dba-aa56-6e6b7cf589af"
      },
      "execution_count": 16,
      "outputs": [
        {
          "output_type": "stream",
          "name": "stdout",
          "text": [
            "this is the first entry 1\n",
            "this is the last entry 9\n"
          ]
        },
        {
          "output_type": "execute_result",
          "data": {
            "text/plain": [
              "67"
            ]
          },
          "metadata": {},
          "execution_count": 16
        }
      ]
    },
    {
      "cell_type": "code",
      "source": [
        "print(MyList[:3])#Prints the first three entries\n",
        "print(MyList[2:5])\n",
        "print(MyList[::3])#Prints every third\n",
        "print(MyList[2::2])#print every index starting with imdex 2 and go in twos\n",
        "print(MyList[-1:-7:-1])#reads the list in reverse"
      ],
      "metadata": {
        "colab": {
          "base_uri": "https://localhost:8080/"
        },
        "id": "XH11KY4c5rqE",
        "outputId": "e2f7c677-545b-4711-94be-555b209b5177"
      },
      "execution_count": 26,
      "outputs": [
        {
          "output_type": "stream",
          "name": "stdout",
          "text": [
            "[1, 5, 4]\n",
            "[4, 7, 9]\n",
            "[1, 7, 67]\n",
            "[4, 9, 67]\n",
            "[9, 67, 34, 9, 7, 4]\n"
          ]
        }
      ]
    },
    {
      "cell_type": "markdown",
      "source": [
        "# The range command\n"
      ],
      "metadata": {
        "id": "-MfIe3o-_ns9"
      }
    },
    {
      "cell_type": "code",
      "source": [
        "MyRange= range(0,11)\n",
        "print(list(MyRange))\n",
        "print(list(range(0,11,2)))\n",
        "print(list(MyRange[0::3]))"
      ],
      "metadata": {
        "colab": {
          "base_uri": "https://localhost:8080/"
        },
        "id": "t6Z2EzNJ_nFF",
        "outputId": "674fe1f2-eb62-4ab9-c32a-c1907cf51520"
      },
      "execution_count": 34,
      "outputs": [
        {
          "output_type": "stream",
          "name": "stdout",
          "text": [
            "[0, 1, 2, 3, 4, 5, 6, 7, 8, 9, 10]\n",
            "[0, 2, 4, 6, 8, 10]\n",
            "[0, 3, 6, 9]\n"
          ]
        }
      ]
    },
    {
      "cell_type": "markdown",
      "source": [
        "# List operations\n",
        "Append, remove and insert."
      ],
      "metadata": {
        "id": "V8vszmGNC-CC"
      }
    },
    {
      "cell_type": "code",
      "source": [
        "x=[0,1,2,3,4,5]\n",
        "x.append(6) # x adds an item to the end of a list\n",
        "print(x)"
      ],
      "metadata": {
        "colab": {
          "base_uri": "https://localhost:8080/"
        },
        "id": "EAM0MmVjDJgw",
        "outputId": "c9e1ab21-bcfd-4764-d992-d6ac36806caa"
      },
      "execution_count": 51,
      "outputs": [
        {
          "output_type": "stream",
          "name": "stdout",
          "text": [
            "[0, 1, 2, 3, 4, 5, 6]\n"
          ]
        }
      ]
    },
    {
      "cell_type": "code",
      "source": [
        "x.remove(3)\n",
        "print(x)\n",
        "\n",
        "x.remove(5)\n",
        "print(x)"
      ],
      "metadata": {
        "colab": {
          "base_uri": "https://localhost:8080/"
        },
        "id": "PqPZVuR0D_Ac",
        "outputId": "fe06334e-a664-42e0-b15d-875f64c417a7"
      },
      "execution_count": 52,
      "outputs": [
        {
          "output_type": "stream",
          "name": "stdout",
          "text": [
            "[0, 1, 2, 4, 5, 6]\n",
            "[0, 1, 2, 4, 6]\n"
          ]
        }
      ]
    },
    {
      "cell_type": "code",
      "source": [
        "x.insert(3,4)#insert(index, object)\n",
        "print(x)"
      ],
      "metadata": {
        "colab": {
          "base_uri": "https://localhost:8080/"
        },
        "id": "7bz3-kNQEq1z",
        "outputId": "455054cf-ccb5-4737-f6af-833cf2d913ec"
      },
      "execution_count": 54,
      "outputs": [
        {
          "output_type": "stream",
          "name": "stdout",
          "text": [
            "[0, 1, 2, 4, 3, 4, 6]\n"
          ]
        }
      ]
    }
  ]
}