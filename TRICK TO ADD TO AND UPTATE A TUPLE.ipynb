{
  "nbformat": 4,
  "nbformat_minor": 0,
  "metadata": {
    "colab": {
      "provenance": [],
      "authorship_tag": "ABX9TyPr+vWvOrGiHRJ5X8JNiaNg",
      "include_colab_link": true
    },
    "kernelspec": {
      "name": "python3",
      "display_name": "Python 3"
    },
    "language_info": {
      "name": "python"
    }
  },
  "cells": [
    {
      "cell_type": "markdown",
      "metadata": {
        "id": "view-in-github",
        "colab_type": "text"
      },
      "source": [
        "<a href=\"https://colab.research.google.com/github/NetizenCodes/-netizen-ai-notebook/blob/main/TRICK%20TO%20ADD%20TO%20AND%20UPTATE%20A%20TUPLE.ipynb\" target=\"_parent\"><img src=\"https://colab.research.google.com/assets/colab-badge.svg\" alt=\"Open In Colab\"/></a>"
      ]
    },
    {
      "cell_type": "markdown",
      "source": [
        ">>TRICK TO ADD TO AND UPDATE A TUPLE\n",
        "\n"
      ],
      "metadata": {
        "id": "zdDyWCNetz7X"
      }
    },
    {
      "cell_type": "code",
      "execution_count": 5,
      "metadata": {
        "colab": {
          "base_uri": "https://localhost:8080/"
        },
        "id": "yzg5uxihlhaq",
        "outputId": "d600281e-4905-4a61-d655-3f67e23072fb"
      },
      "outputs": [
        {
          "output_type": "execute_result",
          "data": {
            "text/plain": [
              "tuple[['ferrari', 'ramgerover', 'toyota', 'mercedes']]"
            ]
          },
          "metadata": {},
          "execution_count": 5
        }
      ],
      "source": [
        "cars=('ferrari', 'rangerover', 'toyota')\n",
        "temp=list(cars)\n",
        "temp.append('mercedes')\n",
        "temp\n",
        "cars=tuple[temp]\n",
        "cars"
      ]
    },
    {
      "cell_type": "code",
      "source": [
        "cars=('ferrari', 'rangerover', 'toyota')\n",
        "temp=list(cars)\n",
        "temp[1]='mercedes'\n",
        "temp\n",
        "cars=tuple(temp)\n",
        "temp"
      ],
      "metadata": {
        "colab": {
          "base_uri": "https://localhost:8080/"
        },
        "id": "jFkIqWezl4Np",
        "outputId": "1ff6e2f0-6e8d-49d0-e17b-2d9dd52889ee"
      },
      "execution_count": 8,
      "outputs": [
        {
          "output_type": "execute_result",
          "data": {
            "text/plain": [
              "['ferrari', 'mercedes', 'toyota']"
            ]
          },
          "metadata": {},
          "execution_count": 8
        }
      ]
    }
  ]
}