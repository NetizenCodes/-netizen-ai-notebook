{
  "nbformat": 4,
  "nbformat_minor": 0,
  "metadata": {
    "colab": {
      "provenance": [],
      "authorship_tag": "ABX9TyOqM6FeT9s2359PpyEDsacL",
      "include_colab_link": true
    },
    "kernelspec": {
      "name": "python3",
      "display_name": "Python 3"
    },
    "language_info": {
      "name": "python"
    }
  },
  "cells": [
    {
      "cell_type": "markdown",
      "metadata": {
        "id": "view-in-github",
        "colab_type": "text"
      },
      "source": [
        "<a href=\"https://colab.research.google.com/github/NetizenCodes/-netizen-ai-notebook/blob/main/Exception_error.ipynb\" target=\"_parent\"><img src=\"https://colab.research.google.com/assets/colab-badge.svg\" alt=\"Open In Colab\"/></a>"
      ]
    },
    {
      "cell_type": "code",
      "execution_count": 25,
      "metadata": {
        "colab": {
          "base_uri": "https://localhost:8080/"
        },
        "id": "sECi_MxZDUgW",
        "outputId": "622cc915-7d5a-4f9a-d89b-90781122ec9f"
      },
      "outputs": [
        {
          "output_type": "stream",
          "name": "stdout",
          "text": [
            "resource open\n",
            "a number divided by zero is undefined division by zero error\n",
            "resource closed\n"
          ]
        }
      ],
      "source": [
        "a=5\n",
        "b=0\n",
        "\n",
        "try:\n",
        "   print(\"resource open\")\n",
        "   print (a/b)\n",
        "\n",
        "\n",
        "except ZeroDivisionError as e:\n",
        "   print(\"a number divided by zero is undefined\",  e, \"error\")\n",
        "\n",
        "except exception as s:\n",
        "   print(\"something went wrong\")\n",
        "finally:\n",
        "   print(\"resource closed\")"
      ]
    },
    {
      "cell_type": "code",
      "source": [
        "try:\n",
        "   k=int(input(\"Enter a number\"))\n",
        "   print(k)\n",
        "except ValueError as v:\n",
        "   print(\"you dint not enter a number\")\n",
        "\n",
        "\n",
        "\n"
      ],
      "metadata": {
        "colab": {
          "base_uri": "https://localhost:8080/"
        },
        "id": "aStF39SLOru_",
        "outputId": "61a94d14-07b9-432a-ca48-1ff5d0b1cdc0"
      },
      "execution_count": 20,
      "outputs": [
        {
          "output_type": "stream",
          "name": "stdout",
          "text": [
            "Enter a numberv\n",
            "you dint not enter a number\n"
          ]
        }
      ]
    }
  ]
}